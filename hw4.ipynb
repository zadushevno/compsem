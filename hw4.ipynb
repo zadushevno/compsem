{
 "cells": [
  {
   "attachments": {},
   "cell_type": "markdown",
   "metadata": {},
   "source": [
    "# Задания 1 и 2"
   ]
  },
  {
   "attachments": {},
   "cell_type": "markdown",
   "metadata": {},
   "source": [
    "Для таблицы прагматического слущающего, представленной в задании, можно вывести скалярную импликатуру для высказывания 'шляпа', поскольку вероятность выбора r1 выше, чем r2. Для остальных высказываний стимул выбирается на основании условия истинности, так как 'очки' верно только для r3, 'усы' -- для r2."
   ]
  },
  {
   "cell_type": "code",
   "execution_count": 5,
   "metadata": {},
   "outputs": [
    {
     "name": "stdout",
     "output_type": "stream",
     "text": [
      "======================================================================\n",
      "Different priors and all-0 message costs\n",
      "\n"
     ]
    },
    {
     "data": {
      "text/html": [
       "<div>\n",
       "<style scoped>\n",
       "    .dataframe tbody tr th:only-of-type {\n",
       "        vertical-align: middle;\n",
       "    }\n",
       "\n",
       "    .dataframe tbody tr th {\n",
       "        vertical-align: top;\n",
       "    }\n",
       "\n",
       "    .dataframe thead th {\n",
       "        text-align: right;\n",
       "    }\n",
       "</style>\n",
       "<table border=\"1\" class=\"dataframe\">\n",
       "  <thead>\n",
       "    <tr style=\"text-align: right;\">\n",
       "      <th></th>\n",
       "      <th>r1</th>\n",
       "      <th>r2</th>\n",
       "      <th>r3</th>\n",
       "      <th>costs</th>\n",
       "    </tr>\n",
       "  </thead>\n",
       "  <tbody>\n",
       "    <tr>\n",
       "      <th>шляпа</th>\n",
       "      <td>1.0</td>\n",
       "      <td>1.0</td>\n",
       "      <td>0.0</td>\n",
       "      <td>0.0</td>\n",
       "    </tr>\n",
       "    <tr>\n",
       "      <th>очки</th>\n",
       "      <td>0.0</td>\n",
       "      <td>0.0</td>\n",
       "      <td>1.0</td>\n",
       "      <td>0.0</td>\n",
       "    </tr>\n",
       "    <tr>\n",
       "      <th>усы</th>\n",
       "      <td>0.0</td>\n",
       "      <td>1.0</td>\n",
       "      <td>0.0</td>\n",
       "      <td>0.0</td>\n",
       "    </tr>\n",
       "    <tr>\n",
       "      <th>prior</th>\n",
       "      <td>0.1</td>\n",
       "      <td>0.45</td>\n",
       "      <td>0.45</td>\n",
       "      <td></td>\n",
       "    </tr>\n",
       "    <tr>\n",
       "      <th>alpha</th>\n",
       "      <td>1.0</td>\n",
       "      <td></td>\n",
       "      <td></td>\n",
       "      <td></td>\n",
       "    </tr>\n",
       "  </tbody>\n",
       "</table>\n",
       "</div>"
      ],
      "text/plain": [
       "        r1    r2    r3 costs\n",
       "шляпа  1.0   1.0   0.0   0.0\n",
       "очки   0.0   0.0   1.0   0.0\n",
       "усы    0.0   1.0   0.0   0.0\n",
       "prior  0.1  0.45  0.45      \n",
       "alpha  1.0                  "
      ]
     },
     "metadata": {},
     "output_type": "display_data"
    },
    {
     "name": "stdout",
     "output_type": "stream",
     "text": [
      "\n",
      "Literal listener\n"
     ]
    },
    {
     "data": {
      "text/html": [
       "<div>\n",
       "<style scoped>\n",
       "    .dataframe tbody tr th:only-of-type {\n",
       "        vertical-align: middle;\n",
       "    }\n",
       "\n",
       "    .dataframe tbody tr th {\n",
       "        vertical-align: top;\n",
       "    }\n",
       "\n",
       "    .dataframe thead th {\n",
       "        text-align: right;\n",
       "    }\n",
       "</style>\n",
       "<table border=\"1\" class=\"dataframe\">\n",
       "  <thead>\n",
       "    <tr style=\"text-align: right;\">\n",
       "      <th></th>\n",
       "      <th>r1</th>\n",
       "      <th>r2</th>\n",
       "      <th>r3</th>\n",
       "    </tr>\n",
       "  </thead>\n",
       "  <tbody>\n",
       "    <tr>\n",
       "      <th>шляпа</th>\n",
       "      <td>0.181818</td>\n",
       "      <td>0.818182</td>\n",
       "      <td>0.0</td>\n",
       "    </tr>\n",
       "    <tr>\n",
       "      <th>очки</th>\n",
       "      <td>0.000000</td>\n",
       "      <td>0.000000</td>\n",
       "      <td>1.0</td>\n",
       "    </tr>\n",
       "    <tr>\n",
       "      <th>усы</th>\n",
       "      <td>0.000000</td>\n",
       "      <td>1.000000</td>\n",
       "      <td>0.0</td>\n",
       "    </tr>\n",
       "  </tbody>\n",
       "</table>\n",
       "</div>"
      ],
      "text/plain": [
       "             r1        r2   r3\n",
       "шляпа  0.181818  0.818182  0.0\n",
       "очки   0.000000  0.000000  1.0\n",
       "усы    0.000000  1.000000  0.0"
      ]
     },
     "metadata": {},
     "output_type": "display_data"
    },
    {
     "name": "stdout",
     "output_type": "stream",
     "text": [
      "\n",
      "Pragmatic speaker\n"
     ]
    },
    {
     "data": {
      "text/html": [
       "<div>\n",
       "<style scoped>\n",
       "    .dataframe tbody tr th:only-of-type {\n",
       "        vertical-align: middle;\n",
       "    }\n",
       "\n",
       "    .dataframe tbody tr th {\n",
       "        vertical-align: top;\n",
       "    }\n",
       "\n",
       "    .dataframe thead th {\n",
       "        text-align: right;\n",
       "    }\n",
       "</style>\n",
       "<table border=\"1\" class=\"dataframe\">\n",
       "  <thead>\n",
       "    <tr style=\"text-align: right;\">\n",
       "      <th></th>\n",
       "      <th>шляпа</th>\n",
       "      <th>очки</th>\n",
       "      <th>усы</th>\n",
       "    </tr>\n",
       "  </thead>\n",
       "  <tbody>\n",
       "    <tr>\n",
       "      <th>r1</th>\n",
       "      <td>1.00</td>\n",
       "      <td>0.0</td>\n",
       "      <td>0.00</td>\n",
       "    </tr>\n",
       "    <tr>\n",
       "      <th>r2</th>\n",
       "      <td>0.45</td>\n",
       "      <td>0.0</td>\n",
       "      <td>0.55</td>\n",
       "    </tr>\n",
       "    <tr>\n",
       "      <th>r3</th>\n",
       "      <td>0.00</td>\n",
       "      <td>1.0</td>\n",
       "      <td>0.00</td>\n",
       "    </tr>\n",
       "  </tbody>\n",
       "</table>\n",
       "</div>"
      ],
      "text/plain": [
       "    шляпа  очки   усы\n",
       "r1   1.00   0.0  0.00\n",
       "r2   0.45   0.0  0.55\n",
       "r3   0.00   1.0  0.00"
      ]
     },
     "metadata": {},
     "output_type": "display_data"
    },
    {
     "name": "stdout",
     "output_type": "stream",
     "text": [
      "\n",
      "Pragmatic listener\n"
     ]
    },
    {
     "data": {
      "text/html": [
       "<div>\n",
       "<style scoped>\n",
       "    .dataframe tbody tr th:only-of-type {\n",
       "        vertical-align: middle;\n",
       "    }\n",
       "\n",
       "    .dataframe tbody tr th {\n",
       "        vertical-align: top;\n",
       "    }\n",
       "\n",
       "    .dataframe thead th {\n",
       "        text-align: right;\n",
       "    }\n",
       "</style>\n",
       "<table border=\"1\" class=\"dataframe\">\n",
       "  <thead>\n",
       "    <tr style=\"text-align: right;\">\n",
       "      <th></th>\n",
       "      <th>r1</th>\n",
       "      <th>r2</th>\n",
       "      <th>r3</th>\n",
       "    </tr>\n",
       "  </thead>\n",
       "  <tbody>\n",
       "    <tr>\n",
       "      <th>шляпа</th>\n",
       "      <td>0.330579</td>\n",
       "      <td>0.669421</td>\n",
       "      <td>0.0</td>\n",
       "    </tr>\n",
       "    <tr>\n",
       "      <th>очки</th>\n",
       "      <td>0.000000</td>\n",
       "      <td>0.000000</td>\n",
       "      <td>1.0</td>\n",
       "    </tr>\n",
       "    <tr>\n",
       "      <th>усы</th>\n",
       "      <td>0.000000</td>\n",
       "      <td>1.000000</td>\n",
       "      <td>0.0</td>\n",
       "    </tr>\n",
       "  </tbody>\n",
       "</table>\n",
       "</div>"
      ],
      "text/plain": [
       "             r1        r2   r3\n",
       "шляпа  0.330579  0.669421  0.0\n",
       "очки   0.000000  0.000000  1.0\n",
       "усы    0.000000  1.000000  0.0"
      ]
     },
     "metadata": {},
     "output_type": "display_data"
    }
   ],
   "source": [
    "import numpy as np\n",
    "import pandas as pd\n",
    "\n",
    "\n",
    "class RSA:\n",
    "    \"\"\"Implementation of the core Rational Speech Acts model.\n",
    "\n",
    "    Parameters\n",
    "    ----------\n",
    "    lexicon : `np.array` or `pd.DataFrame`\n",
    "        Messages along the rows, states along the columns.\n",
    "    prior : array-like\n",
    "        Same length as the number of colums in `lexicon`.\n",
    "    costs : array-like\n",
    "        Same length as the number of rows in `lexicon`.\n",
    "    alpha : float\n",
    "        Default: 1.0\n",
    "    \"\"\"\n",
    "    def __init__(self, lexicon, prior, costs, alpha=1.0):\n",
    "        self.lexicon = lexicon\n",
    "        self.prior = np.array(prior)\n",
    "        self.costs = np.array(costs)\n",
    "        self.alpha = alpha\n",
    "\n",
    "    def literal_listener(self):\n",
    "        \"\"\"Literal listener predictions, which corresponds intuitively\n",
    "        to truth conditions with priors.\n",
    "\n",
    "        Returns\n",
    "        -------\n",
    "        np.array or pd.DataFrame, depending on `self.lexicon`.\n",
    "        The rows correspond to messages, the columns to states.\n",
    "\n",
    "        \"\"\"\n",
    "        return rownorm(self.lexicon * self.prior)\n",
    "    def speaker(self):\n",
    "        \"\"\"Returns a matrix of pragmatic speaker predictions.\n",
    "\n",
    "        Returns\n",
    "        -------\n",
    "        np.array or pd.DataFrame, depending on `self.lexicon`.\n",
    "        The rows correspond to states, the columns to states.\n",
    "        \"\"\"\n",
    "        lit = self.literal_listener().T\n",
    "        utilities = self.alpha * (safelog(lit) + self.costs)\n",
    "        return rownorm(np.exp(utilities))\n",
    "\n",
    "    def listener(self):\n",
    "        \"\"\"Returns a matrix of pragmatic listener predictions.\n",
    "\n",
    "        Returns\n",
    "        -------\n",
    "        np.array or pd.DataFrame, depending on `self.lexicon`.\n",
    "        The rows correspond to messages, the columns to states.\n",
    "        \"\"\"\n",
    "        speaker = self.speaker().T\n",
    "        return rownorm(speaker * self.prior)\n",
    "def rownorm(mat):\n",
    "    \"\"\"Row normalization of np.array or pd.DataFrame\"\"\"\n",
    "    return (mat.T / mat.sum(axis=1)).T\n",
    "\n",
    "\n",
    "def safelog(vals):\n",
    "    \"\"\"Silence distracting warnings about log(0).\"\"\"\n",
    "    with np.errstate(divide='ignore'):\n",
    "        return np.log(vals)\n",
    "\n",
    "\n",
    "if __name__ == '__main__':\n",
    "    \"\"\"Example from the class slides\"\"\"\n",
    "\n",
    "    from IPython.display import display\n",
    "\n",
    "\n",
    "    def display_reference_game(mod):\n",
    "        d = mod.lexicon.copy()\n",
    "        d['costs'] = mod.costs\n",
    "        d.loc['prior'] = list(mod.prior) + [\"\"]\n",
    "        d.loc['alpha'] = [mod.alpha] + [\" \"] * mod.lexicon.shape[1]\n",
    "        display(d)\n",
    "    # Core lexicon:\n",
    "    msgs = ['шляпа', 'очки', 'усы']\n",
    "    states = ['r1', 'r2', 'r3']\n",
    "    lex = pd.DataFrame([\n",
    "        [1.0, 1.0, 0],\n",
    "        [0, 0, 1.0],\n",
    "        [0, 1.0, 0]], index=msgs, columns=states)\n",
    "\n",
    "    print(\"=\"*70 + \"\\nDifferent priors and all-0 message costs\\n\")\n",
    "    basic_mod = RSA(lexicon=lex, prior=[0.1, 0.45, 0.45], costs=[0.0, 0.0, 0.0])\n",
    "\n",
    "    display_reference_game(basic_mod)\n",
    "\n",
    "    print(\"\\nLiteral listener\")\n",
    "    display(basic_mod.literal_listener())\n",
    "\n",
    "    print(\"\\nPragmatic speaker\")\n",
    "    display(basic_mod.speaker())\n",
    "\n",
    "    print(\"\\nPragmatic listener\")\n",
    "    display(basic_mod.listener())"
   ]
  },
  {
   "attachments": {},
   "cell_type": "markdown",
   "metadata": {},
   "source": [
    "Если уменьшить исходную вероятность P(r1) до 0.1, а исходные вероятности P(r2) и P(r3) увеличить до 0.45, скалярная импликатура меняется для высказывания 'шляпа' -- будет выбран стимул r2, а не r1. Это происходит потому, что для прагматического слушателя выбор стимула r2 рациональнее, чем r1, поскольку исходная вероятность выбора r2 говорящим выше. С точки зрения вычислений исходная вероятность влияет на нормализацию значений столбцов. "
   ]
  },
  {
   "attachments": {},
   "cell_type": "markdown",
   "metadata": {},
   "source": [
    "# Задание 3"
   ]
  },
  {
   "attachments": {},
   "cell_type": "markdown",
   "metadata": {},
   "source": [
    "#### Игра 1"
   ]
  },
  {
   "attachments": {},
   "cell_type": "markdown",
   "metadata": {},
   "source": [
    "Рассмотрим референциальную игру, которая была в конце семинара. Пусть есть три высказывания 'квадрат', 'зеленый', 'синий', тогда можно вычислить две скалярные импликатуры (см. таблицу для прагматического слушателя ниже)"
   ]
  },
  {
   "attachments": {
    "image.png": {
     "image/png": "[encoded data removed]"
    }
   },
   "cell_type": "markdown",
   "metadata": {},
   "source": [
    "![image.png](attachment:image.png)"
   ]
  },
  {
   "attachments": {},
   "cell_type": "markdown",
   "metadata": {},
   "source": [
    "Импликатуры: \n",
    "\n",
    "квадрат -> r1 (синий квадрат)\n",
    "\n",
    "синий -> r2 (синий круг)"
   ]
  },
  {
   "cell_type": "code",
   "execution_count": 2,
   "metadata": {},
   "outputs": [
    {
     "name": "stdout",
     "output_type": "stream",
     "text": [
      "======================================================================\n",
      "Even priors and all-0 message costs\n",
      "\n"
     ]
    },
    {
     "data": {
      "text/html": [
       "<div>\n",
       "<style scoped>\n",
       "    .dataframe tbody tr th:only-of-type {\n",
       "        vertical-align: middle;\n",
       "    }\n",
       "\n",
       "    .dataframe tbody tr th {\n",
       "        vertical-align: top;\n",
       "    }\n",
       "\n",
       "    .dataframe thead th {\n",
       "        text-align: right;\n",
       "    }\n",
       "</style>\n",
       "<table border=\"1\" class=\"dataframe\">\n",
       "  <thead>\n",
       "    <tr style=\"text-align: right;\">\n",
       "      <th></th>\n",
       "      <th>r1</th>\n",
       "      <th>r2</th>\n",
       "      <th>r3</th>\n",
       "      <th>costs</th>\n",
       "    </tr>\n",
       "  </thead>\n",
       "  <tbody>\n",
       "    <tr>\n",
       "      <th>квадрат</th>\n",
       "      <td>1.000000</td>\n",
       "      <td>0.0</td>\n",
       "      <td>1.0</td>\n",
       "      <td>0.0</td>\n",
       "    </tr>\n",
       "    <tr>\n",
       "      <th>зеленый</th>\n",
       "      <td>0.000000</td>\n",
       "      <td>0.0</td>\n",
       "      <td>1.0</td>\n",
       "      <td>0.0</td>\n",
       "    </tr>\n",
       "    <tr>\n",
       "      <th>синий</th>\n",
       "      <td>1.000000</td>\n",
       "      <td>1.0</td>\n",
       "      <td>0.0</td>\n",
       "      <td>0.0</td>\n",
       "    </tr>\n",
       "    <tr>\n",
       "      <th>prior</th>\n",
       "      <td>0.333333</td>\n",
       "      <td>0.333333</td>\n",
       "      <td>0.333333</td>\n",
       "      <td></td>\n",
       "    </tr>\n",
       "    <tr>\n",
       "      <th>alpha</th>\n",
       "      <td>1.000000</td>\n",
       "      <td></td>\n",
       "      <td></td>\n",
       "      <td></td>\n",
       "    </tr>\n",
       "  </tbody>\n",
       "</table>\n",
       "</div>"
      ],
      "text/plain": [
       "               r1        r2        r3 costs\n",
       "квадрат  1.000000       0.0       1.0   0.0\n",
       "зеленый  0.000000       0.0       1.0   0.0\n",
       "синий    1.000000       1.0       0.0   0.0\n",
       "prior    0.333333  0.333333  0.333333      \n",
       "alpha    1.000000                          "
      ]
     },
     "metadata": {},
     "output_type": "display_data"
    },
    {
     "name": "stdout",
     "output_type": "stream",
     "text": [
      "\n",
      "Literal listener\n"
     ]
    },
    {
     "data": {
      "text/html": [
       "<div>\n",
       "<style scoped>\n",
       "    .dataframe tbody tr th:only-of-type {\n",
       "        vertical-align: middle;\n",
       "    }\n",
       "\n",
       "    .dataframe tbody tr th {\n",
       "        vertical-align: top;\n",
       "    }\n",
       "\n",
       "    .dataframe thead th {\n",
       "        text-align: right;\n",
       "    }\n",
       "</style>\n",
       "<table border=\"1\" class=\"dataframe\">\n",
       "  <thead>\n",
       "    <tr style=\"text-align: right;\">\n",
       "      <th></th>\n",
       "      <th>r1</th>\n",
       "      <th>r2</th>\n",
       "      <th>r3</th>\n",
       "    </tr>\n",
       "  </thead>\n",
       "  <tbody>\n",
       "    <tr>\n",
       "      <th>квадрат</th>\n",
       "      <td>0.5</td>\n",
       "      <td>0.0</td>\n",
       "      <td>0.5</td>\n",
       "    </tr>\n",
       "    <tr>\n",
       "      <th>зеленый</th>\n",
       "      <td>0.0</td>\n",
       "      <td>0.0</td>\n",
       "      <td>1.0</td>\n",
       "    </tr>\n",
       "    <tr>\n",
       "      <th>синий</th>\n",
       "      <td>0.5</td>\n",
       "      <td>0.5</td>\n",
       "      <td>0.0</td>\n",
       "    </tr>\n",
       "  </tbody>\n",
       "</table>\n",
       "</div>"
      ],
      "text/plain": [
       "          r1   r2   r3\n",
       "квадрат  0.5  0.0  0.5\n",
       "зеленый  0.0  0.0  1.0\n",
       "синий    0.5  0.5  0.0"
      ]
     },
     "metadata": {},
     "output_type": "display_data"
    },
    {
     "name": "stdout",
     "output_type": "stream",
     "text": [
      "\n",
      "Pragmatic speaker\n"
     ]
    },
    {
     "data": {
      "text/html": [
       "<div>\n",
       "<style scoped>\n",
       "    .dataframe tbody tr th:only-of-type {\n",
       "        vertical-align: middle;\n",
       "    }\n",
       "\n",
       "    .dataframe tbody tr th {\n",
       "        vertical-align: top;\n",
       "    }\n",
       "\n",
       "    .dataframe thead th {\n",
       "        text-align: right;\n",
       "    }\n",
       "</style>\n",
       "<table border=\"1\" class=\"dataframe\">\n",
       "  <thead>\n",
       "    <tr style=\"text-align: right;\">\n",
       "      <th></th>\n",
       "      <th>квадрат</th>\n",
       "      <th>зеленый</th>\n",
       "      <th>синий</th>\n",
       "    </tr>\n",
       "  </thead>\n",
       "  <tbody>\n",
       "    <tr>\n",
       "      <th>r1</th>\n",
       "      <td>0.500000</td>\n",
       "      <td>0.000000</td>\n",
       "      <td>0.5</td>\n",
       "    </tr>\n",
       "    <tr>\n",
       "      <th>r2</th>\n",
       "      <td>0.000000</td>\n",
       "      <td>0.000000</td>\n",
       "      <td>1.0</td>\n",
       "    </tr>\n",
       "    <tr>\n",
       "      <th>r3</th>\n",
       "      <td>0.333333</td>\n",
       "      <td>0.666667</td>\n",
       "      <td>0.0</td>\n",
       "    </tr>\n",
       "  </tbody>\n",
       "</table>\n",
       "</div>"
      ],
      "text/plain": [
       "     квадрат   зеленый  синий\n",
       "r1  0.500000  0.000000    0.5\n",
       "r2  0.000000  0.000000    1.0\n",
       "r3  0.333333  0.666667    0.0"
      ]
     },
     "metadata": {},
     "output_type": "display_data"
    },
    {
     "name": "stdout",
     "output_type": "stream",
     "text": [
      "\n",
      "Pragmatic listener\n"
     ]
    },
    {
     "data": {
      "text/html": [
       "<div>\n",
       "<style scoped>\n",
       "    .dataframe tbody tr th:only-of-type {\n",
       "        vertical-align: middle;\n",
       "    }\n",
       "\n",
       "    .dataframe tbody tr th {\n",
       "        vertical-align: top;\n",
       "    }\n",
       "\n",
       "    .dataframe thead th {\n",
       "        text-align: right;\n",
       "    }\n",
       "</style>\n",
       "<table border=\"1\" class=\"dataframe\">\n",
       "  <thead>\n",
       "    <tr style=\"text-align: right;\">\n",
       "      <th></th>\n",
       "      <th>r1</th>\n",
       "      <th>r2</th>\n",
       "      <th>r3</th>\n",
       "    </tr>\n",
       "  </thead>\n",
       "  <tbody>\n",
       "    <tr>\n",
       "      <th>квадрат</th>\n",
       "      <td>0.600000</td>\n",
       "      <td>0.000000</td>\n",
       "      <td>0.4</td>\n",
       "    </tr>\n",
       "    <tr>\n",
       "      <th>зеленый</th>\n",
       "      <td>0.000000</td>\n",
       "      <td>0.000000</td>\n",
       "      <td>1.0</td>\n",
       "    </tr>\n",
       "    <tr>\n",
       "      <th>синий</th>\n",
       "      <td>0.333333</td>\n",
       "      <td>0.666667</td>\n",
       "      <td>0.0</td>\n",
       "    </tr>\n",
       "  </tbody>\n",
       "</table>\n",
       "</div>"
      ],
      "text/plain": [
       "               r1        r2   r3\n",
       "квадрат  0.600000  0.000000  0.4\n",
       "зеленый  0.000000  0.000000  1.0\n",
       "синий    0.333333  0.666667  0.0"
      ]
     },
     "metadata": {},
     "output_type": "display_data"
    }
   ],
   "source": [
    "\n",
    "if __name__ == '__main__':\n",
    "    \"\"\"Example from the class slides\"\"\"\n",
    "\n",
    "    from IPython.display import display\n",
    "\n",
    "\n",
    "    def display_reference_game(mod):\n",
    "        d = mod.lexicon.copy()\n",
    "        d['costs'] = mod.costs\n",
    "        d.loc['prior'] = list(mod.prior) + [\"\"]\n",
    "        d.loc['alpha'] = [mod.alpha] + [\" \"] * mod.lexicon.shape[1]\n",
    "        display(d)\n",
    "    # Core lexicon:\n",
    "    msgs = ['квадрат', 'зеленый', 'синий']\n",
    "    states = ['r1', 'r2', 'r3']\n",
    "    lex = pd.DataFrame([\n",
    "        [1.0, 0, 1.0],\n",
    "        [0, 0, 1.0],\n",
    "        [1.0, 1.0, 0]], index=msgs, columns=states)\n",
    "\n",
    "    print(\"=\"*70 + \"\\nEven priors and all-0 message costs\\n\")\n",
    "    basic_mod = RSA(lexicon=lex, prior=[1/3, 1/3, 1/3], costs=[0.0, 0.0, 0.0])\n",
    "\n",
    "    display_reference_game(basic_mod)\n",
    "\n",
    "    print(\"\\nLiteral listener\")\n",
    "    display(basic_mod.literal_listener())\n",
    "\n",
    "    print(\"\\nPragmatic speaker\")\n",
    "    display(basic_mod.speaker())\n",
    "\n",
    "    print(\"\\nPragmatic listener\")\n",
    "    display(basic_mod.listener())"
   ]
  },
  {
   "attachments": {},
   "cell_type": "markdown",
   "metadata": {},
   "source": [
    "## Роль цены высказывания"
   ]
  },
  {
   "attachments": {},
   "cell_type": "markdown",
   "metadata": {},
   "source": [
    "Параметр \"цена высказывания\" отвечает за маркированность определенного высказывания. Если увеличить этот параметр, высказывание станет слишком маркированным и не будет \"соревноваться\" с другими, и скалярную импликатуру нельзя будет вывести."
   ]
  },
  {
   "cell_type": "code",
   "execution_count": 119,
   "metadata": {},
   "outputs": [],
   "source": [
    "if __name__ == '__main__':\n",
    "    \"\"\"Example from the class slides\"\"\"\n",
    "\n",
    "    from IPython.display import display\n",
    "\n",
    "\n",
    "    def display_reference_game(mod):\n",
    "        d = mod.lexicon.copy()\n",
    "        d['costs'] = mod.costs\n",
    "        d.loc['prior'] = list(mod.prior) + [\"\"]\n",
    "        d.loc['alpha'] = [mod.alpha] + [\" \"] * mod.lexicon.shape[1]\n",
    "        display(d)\n",
    "    # Core lexicon:\n",
    "    msgs = ['квадрат', 'зеленый', 'синий']\n",
    "    states = ['r1', 'r2', 'r3']\n",
    "    lex = pd.DataFrame([\n",
    "        [1.0, 0, 1.0],\n",
    "        [0, 0, 1.0],\n",
    "        [1.0, 1.0, 0]], index=msgs, columns=states)\n",
    "    d = {}\n",
    "    b = {}\n",
    "    for c in range(1, 10):\n",
    "        basic_mod = RSA(lexicon=lex, prior=[1/3, 1/3, 1/3], costs=[c, 0.0, 0.0])\n",
    "        d[c] = basic_mod.listener()['r2'][2]\n",
    "        b[c] = basic_mod.listener()['r1'][0]"
   ]
  },
  {
   "cell_type": "code",
   "execution_count": 120,
   "metadata": {},
   "outputs": [
    {
     "data": {
      "image/png": "[encoded data removed]",
      "text/plain": [
       "<Figure size 432x288 with 1 Axes>"
      ]
     },
     "metadata": {
      "needs_background": "light"
     },
     "output_type": "display_data"
    }
   ],
   "source": [
    "import matplotlib.pyplot as plt\n",
    "\n",
    "plt.xlabel('C(квадрат)')\n",
    "plt.ylabel('PL(r2|синий)')\n",
    "plt.plot(d.keys(), d.values())\n",
    "plt.show()"
   ]
  },
  {
   "cell_type": "code",
   "execution_count": 101,
   "metadata": {},
   "outputs": [
    {
     "data": {
      "image/png": "[encoded data removed]",
      "text/plain": [
       "<Figure size 432x288 with 1 Axes>"
      ]
     },
     "metadata": {
      "needs_background": "light"
     },
     "output_type": "display_data"
    }
   ],
   "source": [
    "plt.xlabel('C(квадрат)')\n",
    "plt.ylabel('PL(r1|квадрат)')\n",
    "plt.plot(b.keys(), b.values())\n",
    "plt.show()"
   ]
  },
  {
   "attachments": {},
   "cell_type": "markdown",
   "metadata": {},
   "source": [
    "Видно, что на втором графике при увеличении параметра цены высказывания 'квадрат' вероятность r1(квадрат) стремится к 0.5, то есть импликатура 'квадрат' -> 'синий квадрат' становится менее сильной и в итоге не выводится вовсе. На первом графике при увеличении этого параметра вероятность выбора r2 при высказывании 'синий' увеличивается, то есть импликатура 'синий' -> 'синий круг' становится более сильной, а 'синий', по мнению прагматического слушающего, не отсылает к синему квадрату. Как я уже говорила, так происходит из-за того, что высказывание 'квадрат' воспринимается как очень маркированное, и прагматический слушатель делает вывод, что настолько маркированное высказывание скорее не будет использовано. "
   ]
  },
  {
   "attachments": {},
   "cell_type": "markdown",
   "metadata": {},
   "source": [
    "## Роль оптимальности альфа"
   ]
  },
  {
   "attachments": {},
   "cell_type": "markdown",
   "metadata": {},
   "source": [
    "Параметр альфа отражает степень влияния прагматики на выбор стимула, соответствующего высказыванию. Это значит, что при его увеличении прагматический слушатель становится рациональнее и с большей вероятностью выбирает прагматически рациональный вариант."
   ]
  },
  {
   "cell_type": "code",
   "execution_count": 93,
   "metadata": {},
   "outputs": [],
   "source": [
    "if __name__ == '__main__':\n",
    "    \"\"\"Example from the class slides\"\"\"\n",
    "\n",
    "    from IPython.display import display\n",
    "\n",
    "\n",
    "    def display_reference_game(mod):\n",
    "        d = mod.lexicon.copy()\n",
    "        d['costs'] = mod.costs\n",
    "        d.loc['prior'] = list(mod.prior) + [\"\"]\n",
    "        d.loc['alpha'] = [mod.alpha] + [\" \"] * mod.lexicon.shape[1]\n",
    "        display(d)\n",
    "    # Core lexicon:\n",
    "    msgs = ['квадрат', 'зеленый', 'синий']\n",
    "    states = ['r1', 'r2', 'r3']\n",
    "    lex = pd.DataFrame([\n",
    "        [1.0, 0, 1.0],\n",
    "        [0, 0, 1.0],\n",
    "        [1.0, 1.0, 0]], index=msgs, columns=states)\n",
    "\n",
    "    d = {}\n",
    "    b = {}\n",
    "    for a in range(1,11):\n",
    "        basic_mod = RSA(lexicon=lex, prior=[1/3, 1/3, 1/3], costs=[0.0, 0.0, 0.0], alpha=a)\n",
    "        d[a] = basic_mod.listener()['r1'][0]\n",
    "        b[a] = basic_mod.listener()['r1'][2]"
   ]
  },
  {
   "cell_type": "code",
   "execution_count": 94,
   "metadata": {},
   "outputs": [
    {
     "data": {
      "image/png": "[encoded data removed]",
      "text/plain": [
       "<Figure size 432x288 with 1 Axes>"
      ]
     },
     "metadata": {
      "needs_background": "light"
     },
     "output_type": "display_data"
    }
   ],
   "source": [
    "plt.xlabel('α')\n",
    "plt.ylabel('PL(r1|синий)')\n",
    "plt.plot(b.keys(), b.values())\n",
    "plt.show()"
   ]
  },
  {
   "attachments": {},
   "cell_type": "markdown",
   "metadata": {},
   "source": [
    "Судя по графику выше, параметр альфа не влияет на импликатуру 'синий' -> r2 (синий круг), видимо, потому что это в целом наиболее оптимальный выбор из возможных стимулов."
   ]
  },
  {
   "cell_type": "code",
   "execution_count": 95,
   "metadata": {},
   "outputs": [
    {
     "data": {
      "image/png": "[encoded data removed]",
      "text/plain": [
       "<Figure size 432x288 with 1 Axes>"
      ]
     },
     "metadata": {
      "needs_background": "light"
     },
     "output_type": "display_data"
    }
   ],
   "source": [
    "plt.xlabel('α')\n",
    "plt.ylabel('PL(r1|квадрат)')\n",
    "plt.plot(d.keys(), d.values())\n",
    "plt.show()"
   ]
  },
  {
   "attachments": {},
   "cell_type": "markdown",
   "metadata": {},
   "source": [
    "Выше представлен график зависимости вероятности выбора r1 для высказывания 'квадрат' от параметра альфа: видно, что чем больше альфа, тем вероятнее, что стимул r1 (синий квадрат) будет выбран как соответствующий высказыванию 'квадрат'. То есть стимул r3 (зеленый квадрат) будет восприниматься как менее оптимальный выбор, так как он отличается по цвету. Значит, скалярная импликатура становится сильнее с увеличением параметра альфа."
   ]
  },
  {
   "attachments": {},
   "cell_type": "markdown",
   "metadata": {},
   "source": [
    "## Роль исходной вероятности"
   ]
  },
  {
   "cell_type": "code",
   "execution_count": 126,
   "metadata": {},
   "outputs": [],
   "source": [
    "if __name__ == '__main__':\n",
    "    \"\"\"Example from the class slides\"\"\"\n",
    "\n",
    "    from IPython.display import display\n",
    "\n",
    "\n",
    "    def display_reference_game(mod):\n",
    "        d = mod.lexicon.copy()\n",
    "        d['costs'] = mod.costs\n",
    "        d.loc['prior'] = list(mod.prior) + [\"\"]\n",
    "        d.loc['alpha'] = [mod.alpha] + [\" \"] * mod.lexicon.shape[1]\n",
    "        display(d)\n",
    "    # Core lexicon:\n",
    "    msgs = ['квадрат', 'зеленый', 'синий']\n",
    "    states = ['r1', 'r2', 'r3']\n",
    "    lex = pd.DataFrame([\n",
    "        [1.0, 0, 1.0],\n",
    "        [0, 0, 1.0],\n",
    "        [1.0, 1.0, 0]], index=msgs, columns=states)\n",
    "    \n",
    "    probs = [0.1, 0.2, 0.3, 0.4, 0.5, 0.6, 0.7, 0.8, 0.9]\n",
    "    d = {}\n",
    "    b = {}\n",
    "    for p in probs:\n",
    "        basic_mod = RSA(lexicon=lex, prior=[ p, (1 - p) / 2, (1 - p) / 2], costs=[0.0, 0.0, 0.0])\n",
    "        d[p] = basic_mod.listener()['r1'][0]\n",
    "        b[p] = basic_mod.listener()['r2'][2]"
   ]
  },
  {
   "cell_type": "code",
   "execution_count": 127,
   "metadata": {},
   "outputs": [
    {
     "data": {
      "image/png": "[encoded data removed]",
      "text/plain": [
       "<Figure size 432x288 with 1 Axes>"
      ]
     },
     "metadata": {
      "needs_background": "light"
     },
     "output_type": "display_data"
    }
   ],
   "source": [
    "plt.xlabel('P(r1)')\n",
    "plt.ylabel('PL(r1|квадрат)')\n",
    "plt.plot(d.keys(), d.values())\n",
    "plt.show()"
   ]
  },
  {
   "cell_type": "code",
   "execution_count": 128,
   "metadata": {},
   "outputs": [
    {
     "data": {
      "image/png": "[encoded data removed]",
      "text/plain": [
       "<Figure size 432x288 with 1 Axes>"
      ]
     },
     "metadata": {
      "needs_background": "light"
     },
     "output_type": "display_data"
    }
   ],
   "source": [
    "plt.xlabel('P(r1)')\n",
    "plt.ylabel('PL(r2|синий)')\n",
    "plt.plot(b.keys(), b.values())\n",
    "plt.show()"
   ]
  },
  {
   "attachments": {},
   "cell_type": "markdown",
   "metadata": {},
   "source": [
    "Исходная вероятность влияет на релевантность референта (стимула) с точки зрения участников дискурса, т.е. говорящего и прагматического слушателя. Если эта вероятность уменьшается, референт становится менее значимым, что может влиять на импликатуры: например, при исходной вероятности r1 меньше 0.3 скалярная импликатура 'квадрат' -> r1 (синий квадрат) исчезает, а при увеличении этой вероятности импликатура становится сильнее. Вторая импликатура, 'синий' -> r2 (синий круг) пропадает при исходной вероятности r1 более 0.5; когда эта вероятность уменьшается, импликатура становится сильнее. Обе импликатуры существуют, если значение исходной вероятности r1 находится в пределах от 0.3 до 0.5"
   ]
  },
  {
   "attachments": {},
   "cell_type": "markdown",
   "metadata": {},
   "source": [
    "#### Игра 2"
   ]
  },
  {
   "attachments": {},
   "cell_type": "markdown",
   "metadata": {},
   "source": [
    "Высказывания для второй референциальной игры:\n",
    "* очки\n",
    "* усы \n",
    "* шляпа"
   ]
  },
  {
   "attachments": {
    "image.png": {
     "image/png": "[encoded data removed]"
    }
   },
   "cell_type": "markdown",
   "metadata": {},
   "source": [
    "![image.png](attachment:image.png)"
   ]
  },
  {
   "cell_type": "code",
   "execution_count": 129,
   "metadata": {},
   "outputs": [
    {
     "name": "stdout",
     "output_type": "stream",
     "text": [
      "======================================================================\n",
      "Even priors and all-0 message costs\n",
      "\n"
     ]
    },
    {
     "data": {
      "text/html": [
       "<div>\n",
       "<style scoped>\n",
       "    .dataframe tbody tr th:only-of-type {\n",
       "        vertical-align: middle;\n",
       "    }\n",
       "\n",
       "    .dataframe tbody tr th {\n",
       "        vertical-align: top;\n",
       "    }\n",
       "\n",
       "    .dataframe thead th {\n",
       "        text-align: right;\n",
       "    }\n",
       "</style>\n",
       "<table border=\"1\" class=\"dataframe\">\n",
       "  <thead>\n",
       "    <tr style=\"text-align: right;\">\n",
       "      <th></th>\n",
       "      <th>r1</th>\n",
       "      <th>r2</th>\n",
       "      <th>r3</th>\n",
       "      <th>costs</th>\n",
       "    </tr>\n",
       "  </thead>\n",
       "  <tbody>\n",
       "    <tr>\n",
       "      <th>очки</th>\n",
       "      <td>1.000000</td>\n",
       "      <td>1.0</td>\n",
       "      <td>0.0</td>\n",
       "      <td>0.0</td>\n",
       "    </tr>\n",
       "    <tr>\n",
       "      <th>усы</th>\n",
       "      <td>1.000000</td>\n",
       "      <td>0.0</td>\n",
       "      <td>1.0</td>\n",
       "      <td>0.0</td>\n",
       "    </tr>\n",
       "    <tr>\n",
       "      <th>шляпа</th>\n",
       "      <td>0.000000</td>\n",
       "      <td>1.0</td>\n",
       "      <td>0.0</td>\n",
       "      <td>0.0</td>\n",
       "    </tr>\n",
       "    <tr>\n",
       "      <th>prior</th>\n",
       "      <td>0.333333</td>\n",
       "      <td>0.333333</td>\n",
       "      <td>0.333333</td>\n",
       "      <td></td>\n",
       "    </tr>\n",
       "    <tr>\n",
       "      <th>alpha</th>\n",
       "      <td>1.000000</td>\n",
       "      <td></td>\n",
       "      <td></td>\n",
       "      <td></td>\n",
       "    </tr>\n",
       "  </tbody>\n",
       "</table>\n",
       "</div>"
      ],
      "text/plain": [
       "             r1        r2        r3 costs\n",
       "очки   1.000000       1.0       0.0   0.0\n",
       "усы    1.000000       0.0       1.0   0.0\n",
       "шляпа  0.000000       1.0       0.0   0.0\n",
       "prior  0.333333  0.333333  0.333333      \n",
       "alpha  1.000000                          "
      ]
     },
     "metadata": {},
     "output_type": "display_data"
    },
    {
     "name": "stdout",
     "output_type": "stream",
     "text": [
      "\n",
      "Literal listener\n"
     ]
    },
    {
     "data": {
      "text/html": [
       "<div>\n",
       "<style scoped>\n",
       "    .dataframe tbody tr th:only-of-type {\n",
       "        vertical-align: middle;\n",
       "    }\n",
       "\n",
       "    .dataframe tbody tr th {\n",
       "        vertical-align: top;\n",
       "    }\n",
       "\n",
       "    .dataframe thead th {\n",
       "        text-align: right;\n",
       "    }\n",
       "</style>\n",
       "<table border=\"1\" class=\"dataframe\">\n",
       "  <thead>\n",
       "    <tr style=\"text-align: right;\">\n",
       "      <th></th>\n",
       "      <th>r1</th>\n",
       "      <th>r2</th>\n",
       "      <th>r3</th>\n",
       "    </tr>\n",
       "  </thead>\n",
       "  <tbody>\n",
       "    <tr>\n",
       "      <th>очки</th>\n",
       "      <td>0.5</td>\n",
       "      <td>0.5</td>\n",
       "      <td>0.0</td>\n",
       "    </tr>\n",
       "    <tr>\n",
       "      <th>усы</th>\n",
       "      <td>0.5</td>\n",
       "      <td>0.0</td>\n",
       "      <td>0.5</td>\n",
       "    </tr>\n",
       "    <tr>\n",
       "      <th>шляпа</th>\n",
       "      <td>0.0</td>\n",
       "      <td>1.0</td>\n",
       "      <td>0.0</td>\n",
       "    </tr>\n",
       "  </tbody>\n",
       "</table>\n",
       "</div>"
      ],
      "text/plain": [
       "        r1   r2   r3\n",
       "очки   0.5  0.5  0.0\n",
       "усы    0.5  0.0  0.5\n",
       "шляпа  0.0  1.0  0.0"
      ]
     },
     "metadata": {},
     "output_type": "display_data"
    },
    {
     "name": "stdout",
     "output_type": "stream",
     "text": [
      "\n",
      "Pragmatic speaker\n"
     ]
    },
    {
     "data": {
      "text/html": [
       "<div>\n",
       "<style scoped>\n",
       "    .dataframe tbody tr th:only-of-type {\n",
       "        vertical-align: middle;\n",
       "    }\n",
       "\n",
       "    .dataframe tbody tr th {\n",
       "        vertical-align: top;\n",
       "    }\n",
       "\n",
       "    .dataframe thead th {\n",
       "        text-align: right;\n",
       "    }\n",
       "</style>\n",
       "<table border=\"1\" class=\"dataframe\">\n",
       "  <thead>\n",
       "    <tr style=\"text-align: right;\">\n",
       "      <th></th>\n",
       "      <th>очки</th>\n",
       "      <th>усы</th>\n",
       "      <th>шляпа</th>\n",
       "    </tr>\n",
       "  </thead>\n",
       "  <tbody>\n",
       "    <tr>\n",
       "      <th>r1</th>\n",
       "      <td>0.500000</td>\n",
       "      <td>0.5</td>\n",
       "      <td>0.000000</td>\n",
       "    </tr>\n",
       "    <tr>\n",
       "      <th>r2</th>\n",
       "      <td>0.333333</td>\n",
       "      <td>0.0</td>\n",
       "      <td>0.666667</td>\n",
       "    </tr>\n",
       "    <tr>\n",
       "      <th>r3</th>\n",
       "      <td>0.000000</td>\n",
       "      <td>1.0</td>\n",
       "      <td>0.000000</td>\n",
       "    </tr>\n",
       "  </tbody>\n",
       "</table>\n",
       "</div>"
      ],
      "text/plain": [
       "        очки  усы     шляпа\n",
       "r1  0.500000  0.5  0.000000\n",
       "r2  0.333333  0.0  0.666667\n",
       "r3  0.000000  1.0  0.000000"
      ]
     },
     "metadata": {},
     "output_type": "display_data"
    },
    {
     "name": "stdout",
     "output_type": "stream",
     "text": [
      "\n",
      "Pragmatic listener\n"
     ]
    },
    {
     "data": {
      "text/html": [
       "<div>\n",
       "<style scoped>\n",
       "    .dataframe tbody tr th:only-of-type {\n",
       "        vertical-align: middle;\n",
       "    }\n",
       "\n",
       "    .dataframe tbody tr th {\n",
       "        vertical-align: top;\n",
       "    }\n",
       "\n",
       "    .dataframe thead th {\n",
       "        text-align: right;\n",
       "    }\n",
       "</style>\n",
       "<table border=\"1\" class=\"dataframe\">\n",
       "  <thead>\n",
       "    <tr style=\"text-align: right;\">\n",
       "      <th></th>\n",
       "      <th>r1</th>\n",
       "      <th>r2</th>\n",
       "      <th>r3</th>\n",
       "    </tr>\n",
       "  </thead>\n",
       "  <tbody>\n",
       "    <tr>\n",
       "      <th>очки</th>\n",
       "      <td>0.600000</td>\n",
       "      <td>0.4</td>\n",
       "      <td>0.000000</td>\n",
       "    </tr>\n",
       "    <tr>\n",
       "      <th>усы</th>\n",
       "      <td>0.333333</td>\n",
       "      <td>0.0</td>\n",
       "      <td>0.666667</td>\n",
       "    </tr>\n",
       "    <tr>\n",
       "      <th>шляпа</th>\n",
       "      <td>0.000000</td>\n",
       "      <td>1.0</td>\n",
       "      <td>0.000000</td>\n",
       "    </tr>\n",
       "  </tbody>\n",
       "</table>\n",
       "</div>"
      ],
      "text/plain": [
       "             r1   r2        r3\n",
       "очки   0.600000  0.4  0.000000\n",
       "усы    0.333333  0.0  0.666667\n",
       "шляпа  0.000000  1.0  0.000000"
      ]
     },
     "metadata": {},
     "output_type": "display_data"
    }
   ],
   "source": [
    "\n",
    "if __name__ == '__main__':\n",
    "    \"\"\"Example from the class slides\"\"\"\n",
    "\n",
    "    from IPython.display import display\n",
    "\n",
    "\n",
    "    def display_reference_game(mod):\n",
    "        d = mod.lexicon.copy()\n",
    "        d['costs'] = mod.costs\n",
    "        d.loc['prior'] = list(mod.prior) + [\"\"]\n",
    "        d.loc['alpha'] = [mod.alpha] + [\" \"] * mod.lexicon.shape[1]\n",
    "        display(d)\n",
    "    # Core lexicon:\n",
    "    msgs = ['очки', 'усы', 'шляпа']\n",
    "    states = ['r1', 'r2', 'r3']\n",
    "    lex = pd.DataFrame([\n",
    "        [1.0, 1.0, 0],\n",
    "        [1.0, 0, 1.0],\n",
    "        [0, 1.0, 0]], index=msgs, columns=states)\n",
    "\n",
    "    print(\"=\"*70 + \"\\nEven priors and all-0 message costs\\n\")\n",
    "    basic_mod = RSA(lexicon=lex, prior=[1/3, 1/3, 1/3], costs=[0.0, 0.0, 0.0])\n",
    "\n",
    "    display_reference_game(basic_mod)\n",
    "\n",
    "    print(\"\\nLiteral listener\")\n",
    "    display(basic_mod.literal_listener())\n",
    "\n",
    "    print(\"\\nPragmatic speaker\")\n",
    "    display(basic_mod.speaker())\n",
    "\n",
    "    print(\"\\nPragmatic listener\")\n",
    "    display(basic_mod.listener())"
   ]
  },
  {
   "attachments": {},
   "cell_type": "markdown",
   "metadata": {},
   "source": [
    "Подробнее рассмотреть влияние различных параметров я не успела, однако кажется, что в целом результаты будут схожи с выводами для предыдущей референциальной игры."
   ]
  },
  {
   "attachments": {},
   "cell_type": "markdown",
   "metadata": {},
   "source": [
    "# Задание 4"
   ]
  },
  {
   "attachments": {},
   "cell_type": "markdown",
   "metadata": {},
   "source": [
    "Мне сложно предложить конкретные параметры и изменения формулы, но, думаю, теория рационального речевого акта может применяться, например, при исследовании семантики числа в русском: можно было бы посмотреть, в каких ситуациях высказывание в единственном числе может обозначать референта во множественном (например, каким будет выбор для высказывания 'мороженое с вишней', если есть мороженое с одной вишенкой и с несколькими). В английском языке, кажется, выбор более однозначный, поскольку референт в единственном числе требует артикля, а в русском все не очень очевидно. "
   ]
  }
 ],
 "metadata": {
  "kernelspec": {
   "display_name": "Python 3",
   "language": "python",
   "name": "python3"
  },
  "language_info": {
   "codemirror_mode": {
    "name": "ipython",
    "version": 3
   },
   "file_extension": ".py",
   "mimetype": "text/x-python",
   "name": "python",
   "nbconvert_exporter": "python",
   "pygments_lexer": "ipython3",
   "version": "3.10.2"
  },
  "orig_nbformat": 4
 },
 "nbformat": 4,
 "nbformat_minor": 2
}
